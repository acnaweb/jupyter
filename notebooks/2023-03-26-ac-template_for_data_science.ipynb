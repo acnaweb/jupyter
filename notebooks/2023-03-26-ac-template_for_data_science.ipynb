{
 "cells": [
  {
   "cell_type": "markdown",
   "id": "3b9e745c-196b-4ed4-914e-ce7cf0de9155",
   "metadata": {},
   "source": [
    "# Index <a id=\"table_of_contents\"></a>\n",
    "\n",
    "\n",
    "1. [Import libraries](#imports)\n",
    "2. [Import data](#import_data)\n",
    "3. [Data exploration](#data_exploration)\n",
    "4. [Data cleaning](#data_cleaning)\n",
    "5. [Data preparation](#data_preparation)\n",
    "6. [Benchmark model](#benchmark_model)<br>\n",
    "    6.1 [Train-test split](#train_test_split)<br>\n",
    "    6.2 [Fit a model to the data](#fit_model)<br>\n",
    "    6.3 [Model evaluation](#model_evaluation)<br>\n",
    "    6.4 [Fix problems](#fix_problems)\n",
    "7. [Feature engineering](#feature_engineering)\n",
    "8. [Model training](#model_training)<br>\n",
    "    8.1 [Algorithm - Model 1](#model_1)<br>    \n",
    "    8.2 [Algorithm - Model 2](#model_2)<br>\n",
    "        [Overfit](#model_2_overfit)<br>\n",
    "        [Underfit](#model_2_underfit)<br>\n",
    "    8.3 [Comparing algorithm performances](#comparing_algorithm_performance)\n",
    "9. [Tunning](#tunning)<br>\n",
    "    9.1 [Find best parameters](#find_best_parameters)"
   ]
  },
  {
   "cell_type": "markdown",
   "id": "3d722dcd-7cbc-4f8e-b582-1ff032eeccb1",
   "metadata": {},
   "source": [
    "# 1. Import libraries <a id=\"imports\"></a>\n",
    "[Back to top](#table_of_contents)"
   ]
  },
  {
   "cell_type": "code",
   "execution_count": null,
   "id": "0a719287-24e3-4593-b507-3d29d0fa9519",
   "metadata": {},
   "outputs": [],
   "source": [
    "%%bash\n",
    "\n",
    "# cp -u .env.template .env\n",
    "# pip install -q -r requirements.txt\n"
   ]
  },
  {
   "cell_type": "code",
   "execution_count": null,
   "id": "35a29f4a-c17b-4265-9ef5-2b30d339fe2a",
   "metadata": {},
   "outputs": [],
   "source": [
    "# !pip install -q <package>"
   ]
  },
  {
   "cell_type": "code",
   "execution_count": null,
   "id": "138afcdf-5561-4cff-9942-68167c8f9973",
   "metadata": {},
   "outputs": [],
   "source": [
    "import warnings\n",
    "\n",
    "warnings.filterwarnings('ignore')\n",
    "\n",
    "# !maptplotlib inline"
   ]
  },
  {
   "cell_type": "markdown",
   "id": "d911eb6f-4d30-4b0e-9da3-f20c6bab3c59",
   "metadata": {},
   "source": [
    "# 2. Import data <a id=\"import_data\"></a>\n",
    "[Back to top](#table_of_contents)"
   ]
  },
  {
   "cell_type": "code",
   "execution_count": null,
   "id": "732f4c0c-6f57-4635-bc69-5d046e737a32",
   "metadata": {},
   "outputs": [],
   "source": [
    "%timeit sum(range(100))\n",
    "\n",
    "# check performance inline\n"
   ]
  },
  {
   "cell_type": "code",
   "execution_count": null,
   "id": "13d383ef-d235-4ce3-9156-eee8378d8990",
   "metadata": {},
   "outputs": [],
   "source": [
    "%%timeit\n",
    "\n",
    "# check performance\n",
    "total = 0\n",
    "for i in range(1000):\n",
    "    for j in range(1000):\n",
    "        total += i * (-1 ** j)"
   ]
  },
  {
   "cell_type": "code",
   "execution_count": null,
   "id": "4fc824e5-8b5b-4097-9571-7c484b31ee70",
   "metadata": {},
   "outputs": [],
   "source": [
    "def sum_of_lists(n):\n",
    "    total = 0\n",
    "    for i in range(5):\n",
    "        l =  [j ^ (j >> i) for j in range(n)]\n",
    "        total += sum(l)\n",
    "    return total\n",
    "\n",
    "%prun sum_of_lists(1000000)"
   ]
  },
  {
   "cell_type": "code",
   "execution_count": null,
   "id": "98771c6b-64f6-4063-afcc-d41b83b4dd2d",
   "metadata": {},
   "outputs": [],
   "source": [
    "!pip install -q memory_profiler\n",
    "%reload_ext memory_profiler\n",
    "\n",
    "%memit sum_of_lists(1000000)\n"
   ]
  },
  {
   "cell_type": "markdown",
   "id": "ff521a97-34e6-49e7-b5bf-8b6aa769bed4",
   "metadata": {},
   "source": [
    "# 3. Data exploration <a id=\"data_exploration\"></a>\n",
    "[Back to top](#table_of_contents)"
   ]
  },
  {
   "cell_type": "markdown",
   "id": "4a43f939-202b-4339-bda4-55c813e8d6ba",
   "metadata": {},
   "source": [
    "# 4. Data cleaning <a id=\"data_cleaning\"></a>\n",
    "[Back to top](#table_of_contents)"
   ]
  },
  {
   "cell_type": "markdown",
   "id": "951b3519-cc68-4162-8a58-65e863858405",
   "metadata": {},
   "source": [
    "# 5. Data preparation <a id=\"data_preparation\"></a>\n",
    "[Back to top](#table_of_contents)"
   ]
  },
  {
   "cell_type": "markdown",
   "id": "523fc21b-e978-4a99-a8e5-547f01b753d3",
   "metadata": {},
   "source": [
    "# 6. Benchmark model <a id=\"benchmark_model\"></a>\n",
    "[Back to top](#table_of_contents)"
   ]
  },
  {
   "cell_type": "markdown",
   "id": "6790dda0-8e0e-408e-8f54-08bebab77ab2",
   "metadata": {},
   "source": [
    "## 6.1 Train-test split <a id=\"train_test_split\"></a>\n",
    "[Back to top](#table_of_contents)"
   ]
  },
  {
   "cell_type": "markdown",
   "id": "2156df4a-0742-431e-b5ff-0b22db75d61b",
   "metadata": {},
   "source": [
    "## 6.2 Fit a model to the data <a id=\"fit_model\"></a>\n",
    "[Back to top](#table_of_contents)"
   ]
  },
  {
   "cell_type": "markdown",
   "id": "6daf7192-592c-40e1-9a94-ed0b88e1992a",
   "metadata": {},
   "source": [
    "## 6.3 Model evaluation <a id=\"model_evaluation\"></a>\n",
    "[Back to top](#table_of_contents)"
   ]
  },
  {
   "cell_type": "markdown",
   "id": "e72f5b2c-ea4f-4bbd-bbed-02e3915124ad",
   "metadata": {},
   "source": [
    "## 6.4 Fix problems<a id=\"fix_problems\"></a>\n",
    "[Back to top](#table_of_contents)"
   ]
  },
  {
   "cell_type": "markdown",
   "id": "e23bf99a-42ea-4c9c-9855-55a1a119fd07",
   "metadata": {},
   "source": [
    "# 7. Feature engineering <a id=\"feature_engineering\"></a>\n",
    "[Back to top](#table_of_contents)"
   ]
  },
  {
   "cell_type": "markdown",
   "id": "83cb2a9e-4451-47eb-8177-e11c75246496",
   "metadata": {},
   "source": [
    "# 8. Model training <a id=\"model_training\"></a>\n",
    "[Back to top](#table_of_contents)"
   ]
  },
  {
   "cell_type": "markdown",
   "id": "f34016c1-cb89-49ad-8499-3dd9a39aefa2",
   "metadata": {},
   "source": [
    "## 8.1 Algorithm - Model 1 <a id=\"model_1\"></a>\n",
    "[Back to top](#table_of_contents)"
   ]
  },
  {
   "cell_type": "markdown",
   "id": "b118f964-c8a1-44c1-8e95-d89d0f3c9475",
   "metadata": {},
   "source": [
    "## 8.2 Algorithm - Model 2 <a id=\"model_2\"></a>\n",
    "[Back to top](#table_of_contents)"
   ]
  },
  {
   "cell_type": "markdown",
   "id": "7379c560-0bbb-4aed-84c4-afedd8e06d21",
   "metadata": {},
   "source": [
    "### Model 2 - Overfit <a id=\"model_2_overfit\"></a>\n",
    "[Back to top](#table_of_contents)"
   ]
  },
  {
   "cell_type": "markdown",
   "id": "1e5328b1-a354-4b15-b156-a0ff9347e860",
   "metadata": {},
   "source": [
    "### Model 2 - Underfit <a id=\"model_2_underfit\"></a>\n",
    "[Back to top](#table_of_contents)"
   ]
  },
  {
   "cell_type": "markdown",
   "id": "0da12223-d4f4-4571-854e-b2b084b73e58",
   "metadata": {},
   "source": [
    "## 8.3 Comparing algorithm performances <a id=\"comparing_algorithm_performance\"></a>\n",
    "[Back to top](#table_of_contents)"
   ]
  },
  {
   "cell_type": "markdown",
   "id": "7136a7dc-b69a-44b1-8468-324a6a198078",
   "metadata": {},
   "source": [
    "# 9. Tunning <a id=\"tunning\"></a>\n",
    "[Back to top](#table_of_contents)"
   ]
  },
  {
   "cell_type": "markdown",
   "id": "f1c96770-1b3a-4d59-883a-a00483e273a0",
   "metadata": {},
   "source": [
    "## 9.1 Find best parameters <a id=\"find_best_parameters\"></a>\n",
    "[Back to top](#table_of_contents)"
   ]
  }
 ],
 "metadata": {
  "kernelspec": {
   "display_name": "Python 3 (ipykernel)",
   "language": "python",
   "name": "python3"
  },
  "language_info": {
   "codemirror_mode": {
    "name": "ipython",
    "version": 3
   },
   "file_extension": ".py",
   "mimetype": "text/x-python",
   "name": "python",
   "nbconvert_exporter": "python",
   "pygments_lexer": "ipython3",
   "version": "3.9.13"
  }
 },
 "nbformat": 4,
 "nbformat_minor": 5
}
